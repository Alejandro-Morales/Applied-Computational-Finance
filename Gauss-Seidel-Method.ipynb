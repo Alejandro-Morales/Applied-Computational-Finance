{
 "cells": [
  {
   "cell_type": "code",
   "execution_count": 6,
   "metadata": {},
   "outputs": [],
   "source": [
    "import numpy as np"
   ]
  },
  {
   "cell_type": "code",
   "execution_count": 7,
   "metadata": {},
   "outputs": [
    {
     "name": "stdout",
     "output_type": "stream",
     "text": [
      "[ 1. -3.  2.]\n"
     ]
    }
   ],
   "source": [
    "A = np.array([[5,-1,2], \n",
    "              [3,8,-2],\n",
    "              [1,1,4]])\n",
    "\n",
    "b = np.array([12,-25,6])\n",
    "\n",
    "A = A*1.0\n",
    "b = b*1.0\n",
    "\n",
    "solution = np.linalg.inv(A).dot(b)\n",
    "print(solution)"
   ]
  },
  {
   "cell_type": "markdown",
   "metadata": {},
   "source": [
    "# Gauss-Seidel Method"
   ]
  },
  {
   "cell_type": "markdown",
   "metadata": {},
   "source": [
    "The **Gauss Seidel Method** is an iterative method that is used solve linear systems of equations. Convergence is guaranteed when the matrix is strictly diagonally dominant. The following function applies this method to solve the system of equations **Ax = b**. It takes as inputs a matrix, a vector **b** and an initial guess **x0**, returning the resulting **x** after the final iteration, and the number of iterations. This function iterates until it reaches consistency to the tolerance $\\varepsilon$ using  the **infinity norm** as convergence criteria. The function also takes a boolean pr parameter that is used only to indicate if we want to print the results.\n",
    "\n",
    "**Infinity Norm**\n",
    "\n",
    "$l_\\infty = \\frac{\\mid \\mid \\vec{x}^{(k+1)}-\\vec{x}^{(k)}\\mid \\mid_\\infty}{\\mid \\mid \\vec{x}^{(k)}\\mid \\mid_\\infty} < \\varepsilon$\\\\\n",
    "\n",
    "$\\varepsilon$ is the tolerance > 0.\n",
    "\n",
    "$\\mid \\mid \\vec{x} \\mid \\mid_\\infty = max \\mid x_i \\mid $ \n",
    "\n",
    "$1\\leq i \\leq n$\n"
   ]
  },
  {
   "cell_type": "code",
   "execution_count": 8,
   "metadata": {},
   "outputs": [],
   "source": [
    "def GS(M,b,x,p,pr):\n",
    "    prev = np.zeros((2,len(M)),float)\n",
    "\n",
    "    m = len(M)\n",
    "\n",
    "    inf_norm = 1\n",
    "    count = 0\n",
    "    while inf_norm > p :\n",
    "        for i in range(m):\n",
    "            prov = b[i]\n",
    "            for j in range(m):\n",
    "                if i != j:\n",
    "                    prov = prov -M[i][j]*x[j]\n",
    "            x[i] = prov/M[i][i]\n",
    "\n",
    "        prev[1] = prev[0]\n",
    "        prev[0] = x\n",
    "\n",
    "        if count != 0:\n",
    "            inf_norm = (max(np.absolute(prev[0]-prev[1])))/max(np.absolute(prev[1]))\n",
    "            if pr:\n",
    "                print(\"error = \",inf_norm)\n",
    "        count = count +1\n",
    "        if pr:\n",
    "            print(x)\n",
    "            print(\"-----------------\")\n",
    "    return x, count"
   ]
  },
  {
   "cell_type": "code",
   "execution_count": 9,
   "metadata": {},
   "outputs": [
    {
     "name": "stdout",
     "output_type": "stream",
     "text": [
      "[ 2.4     -4.025    1.90625]\n",
      "-----------------\n",
      "error =  0.3894409937888198\n",
      "[ 0.8325     -2.960625    2.03203125]\n",
      "-----------------\n",
      "error =  0.054908169727675725\n",
      "[ 0.9950625  -2.99014062  1.99876953]\n",
      "-----------------\n",
      "error =  0.0037091953242168376\n",
      "[ 1.00246406 -3.00123164  1.99969189]\n",
      "-----------------\n",
      "error =  0.0008620289092252939\n",
      "[ 0.99987691 -3.00003087  2.00003849]\n",
      "-----------------\n",
      "error =  3.3838518998848066e-05\n",
      "[ 0.99997843 -2.99998229  2.00000096]\n",
      "-----------------\n",
      "Number of iterations =  6\n"
     ]
    }
   ],
   "source": [
    "e = 0.0001\n",
    "x0 = np.zeros(len(A),float)\n",
    "pr = True\n",
    "x, it = GS(A,b,x0,e,pr)\n",
    "print(\"Number of iterations = \", it)"
   ]
  },
  {
   "cell_type": "code",
   "execution_count": null,
   "metadata": {},
   "outputs": [],
   "source": []
  }
 ],
 "metadata": {
  "kernelspec": {
   "display_name": "Python 3",
   "language": "python",
   "name": "python3"
  },
  "language_info": {
   "codemirror_mode": {
    "name": "ipython",
    "version": 3
   },
   "file_extension": ".py",
   "mimetype": "text/x-python",
   "name": "python",
   "nbconvert_exporter": "python",
   "pygments_lexer": "ipython3",
   "version": "3.8.3"
  },
  "latex_envs": {
   "LaTeX_envs_menu_present": true,
   "autoclose": false,
   "autocomplete": true,
   "bibliofile": "biblio.bib",
   "cite_by": "apalike",
   "current_citInitial": 1,
   "eqLabelWithNumbers": true,
   "eqNumInitial": 1,
   "hotkeys": {
    "equation": "Ctrl-E",
    "itemize": "Ctrl-I"
   },
   "labels_anchors": false,
   "latex_user_defs": false,
   "report_style_numbering": false,
   "user_envs_cfg": false
  },
  "nbTranslate": {
   "displayLangs": [
    "*"
   ],
   "hotkey": "alt-t",
   "langInMainMenu": true,
   "sourceLang": "en",
   "targetLang": "fr",
   "useGoogleTranslate": true
  },
  "toc": {
   "base_numbering": 1,
   "nav_menu": {},
   "number_sections": true,
   "sideBar": true,
   "skip_h1_title": false,
   "title_cell": "Table of Contents",
   "title_sidebar": "Contents",
   "toc_cell": false,
   "toc_position": {},
   "toc_section_display": true,
   "toc_window_display": false
  }
 },
 "nbformat": 4,
 "nbformat_minor": 4
}
