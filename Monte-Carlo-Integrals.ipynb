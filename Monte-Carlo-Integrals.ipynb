{
 "cells": [
  {
   "cell_type": "code",
   "execution_count": 28,
   "metadata": {},
   "outputs": [],
   "source": [
    "# Monte-Carlo integral Approximation\n",
    "import numpy as np"
   ]
  },
  {
   "cell_type": "markdown",
   "metadata": {},
   "source": [
    "##### We want to approzimate the following integral with Monte Carlo Simulations\n",
    "$$\\int_{3}^{5} e^{x^2} dx = $$\n",
    "##### Using the transformation\n",
    "$$ y = \\frac{x-a}{b-a}$$"
   ]
  },
  {
   "cell_type": "code",
   "execution_count": 31,
   "metadata": {},
   "outputs": [
    {
     "name": "stdout",
     "output_type": "stream",
     "text": [
      "7326219978.280555\n"
     ]
    }
   ],
   "source": [
    "# Integration limits\n",
    "a = 3\n",
    "b = 5\n",
    "\n",
    "# Number of simulations\n",
    "N = 1000000\n",
    "\n",
    "# Algorithm\n",
    "suma = 0\n",
    "for i in range(N):\n",
    "    x = np.random.uniform()*(b-a)+a\n",
    "    suma = suma + np.exp(x**2)\n",
    "E = suma/N\n",
    "R = E*(b-a)\n",
    "print(R)"
   ]
  },
  {
   "cell_type": "markdown",
   "metadata": {},
   "source": [
    "##### We see that as the number of sumulations N goes up, we approximate the real value of the integral\n",
    "$$\\int_{3}^{5} e^{x^2} dx = 7354152303 $$"
   ]
  },
  {
   "cell_type": "markdown",
   "metadata": {},
   "source": [
    "##### We will now approximate this integral using the same transformation\n",
    "$$\\int_{0}^{1} \\frac{1}{\\sqrt{1+sin(x)^2}} dx =$$\n",
    "$$ y = \\frac{x-a}{b-a}$$"
   ]
  },
  {
   "cell_type": "code",
   "execution_count": 32,
   "metadata": {},
   "outputs": [
    {
     "name": "stdout",
     "output_type": "stream",
     "text": [
      "0.8964447155243265\n"
     ]
    }
   ],
   "source": [
    "# Integration limits\n",
    "a = 0\n",
    "b = 1\n",
    "\n",
    "# Number of simulations\n",
    "N = 1000000\n",
    "\n",
    "# Algorithm\n",
    "suma = 0\n",
    "for i in range(N):\n",
    "    x = np.random.uniform()*(b-a)+a\n",
    "    suma = suma + 1/(np.sqrt(1+(np.sin(x)**2)))\n",
    "E = suma/N\n",
    "R = E*(b-a)\n",
    "print(R)"
   ]
  },
  {
   "cell_type": "markdown",
   "metadata": {},
   "source": [
    "##### We see that it also approximates its real value\n",
    "$$\\int_{0}^{1} \\frac{1}{\\sqrt{1+sin(x)^2}} dx = 0.896393$$"
   ]
  },
  {
   "cell_type": "code",
   "execution_count": null,
   "metadata": {},
   "outputs": [],
   "source": []
  }
 ],
 "metadata": {
  "kernelspec": {
   "display_name": "Python 3",
   "language": "python",
   "name": "python3"
  },
  "language_info": {
   "codemirror_mode": {
    "name": "ipython",
    "version": 3
   },
   "file_extension": ".py",
   "mimetype": "text/x-python",
   "name": "python",
   "nbconvert_exporter": "python",
   "pygments_lexer": "ipython3",
   "version": "3.8.3"
  },
  "latex_envs": {
   "LaTeX_envs_menu_present": true,
   "autoclose": false,
   "autocomplete": true,
   "bibliofile": "biblio.bib",
   "cite_by": "apalike",
   "current_citInitial": 1,
   "eqLabelWithNumbers": true,
   "eqNumInitial": 1,
   "hotkeys": {
    "equation": "Ctrl-E",
    "itemize": "Ctrl-I"
   },
   "labels_anchors": false,
   "latex_user_defs": false,
   "report_style_numbering": false,
   "user_envs_cfg": false
  },
  "nbTranslate": {
   "displayLangs": [
    "*"
   ],
   "hotkey": "alt-t",
   "langInMainMenu": true,
   "sourceLang": "en",
   "targetLang": "fr",
   "useGoogleTranslate": true
  },
  "toc": {
   "base_numbering": 1,
   "nav_menu": {},
   "number_sections": true,
   "sideBar": true,
   "skip_h1_title": false,
   "title_cell": "Table of Contents",
   "title_sidebar": "Contents",
   "toc_cell": false,
   "toc_position": {},
   "toc_section_display": true,
   "toc_window_display": false
  }
 },
 "nbformat": 4,
 "nbformat_minor": 4
}
