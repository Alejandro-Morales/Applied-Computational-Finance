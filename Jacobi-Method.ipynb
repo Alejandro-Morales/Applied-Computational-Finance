{
 "cells": [
  {
   "cell_type": "code",
   "execution_count": 59,
   "metadata": {},
   "outputs": [],
   "source": [
    "import numpy as np"
   ]
  },
  {
   "cell_type": "code",
   "execution_count": 60,
   "metadata": {},
   "outputs": [
    {
     "name": "stdout",
     "output_type": "stream",
     "text": [
      "[ 1. -3.  2.]\n"
     ]
    }
   ],
   "source": [
    "A = np.array([[5,-1,2], \n",
    "              [3,8,-2],\n",
    "              [1,1,4]])\n",
    "\n",
    "b = np.array([12,-25,6])\n",
    "\n",
    "A = A*1.0\n",
    "b = b*1.0\n",
    "\n",
    "solution = np.linalg.inv(A).dot(b)\n",
    "print(solution)"
   ]
  },
  {
   "cell_type": "code",
   "execution_count": 61,
   "metadata": {},
   "outputs": [
    {
     "name": "stdout",
     "output_type": "stream",
     "text": [
      "[ 2.4   -3.125  1.5  ]\n",
      "[ 1.175   -3.65     1.68125]\n",
      "[ 0.9975    -3.1453125  2.11875  ]\n",
      "[ 0.9234375  -2.969375    2.03695313]\n",
      "[ 0.99134375 -2.96205078  2.01148437]\n",
      "[ 1.00299609 -2.99388281  1.99267676]\n",
      "[ 1.00415273 -3.00295435  1.99772168]\n",
      "[ 1.00032046 -3.00212686  1.9997004 ]\n",
      "[ 0.99969447 -3.00019507  2.0004516 ]\n",
      "[ 0.99978035 -2.99977253  2.00012515]\n"
     ]
    }
   ],
   "source": [
    "# Jacobi\n",
    "\n",
    "g = np.array([0.0,0.0,0.0]) # Initial guess\n",
    "s = np.array([0.0,0.0,0.0]) # one step behind\n",
    "\n",
    "m = len(A)\n",
    "\n",
    "for r in range(10):\n",
    "    for i in range(m):\n",
    "        prov = b[i]\n",
    "        for j in range(m):\n",
    "            if i != j:\n",
    "                prov = prov -A[i][j]*s[j]\n",
    "        g[i] = prov/A[i][i]\n",
    "    s = np.array([g[0],g[1],g[2]]) # Tienes que arreglar estoooooooo\n",
    "    print(g)"
   ]
  },
  {
   "cell_type": "code",
   "execution_count": null,
   "metadata": {},
   "outputs": [],
   "source": []
  }
 ],
 "metadata": {
  "kernelspec": {
   "display_name": "Python 3",
   "language": "python",
   "name": "python3"
  },
  "language_info": {
   "codemirror_mode": {
    "name": "ipython",
    "version": 3
   },
   "file_extension": ".py",
   "mimetype": "text/x-python",
   "name": "python",
   "nbconvert_exporter": "python",
   "pygments_lexer": "ipython3",
   "version": "3.8.3"
  },
  "latex_envs": {
   "LaTeX_envs_menu_present": true,
   "autoclose": false,
   "autocomplete": true,
   "bibliofile": "biblio.bib",
   "cite_by": "apalike",
   "current_citInitial": 1,
   "eqLabelWithNumbers": true,
   "eqNumInitial": 1,
   "hotkeys": {
    "equation": "Ctrl-E",
    "itemize": "Ctrl-I"
   },
   "labels_anchors": false,
   "latex_user_defs": false,
   "report_style_numbering": false,
   "user_envs_cfg": false
  },
  "nbTranslate": {
   "displayLangs": [
    "*"
   ],
   "hotkey": "alt-t",
   "langInMainMenu": true,
   "sourceLang": "en",
   "targetLang": "fr",
   "useGoogleTranslate": true
  },
  "toc": {
   "base_numbering": 1,
   "nav_menu": {},
   "number_sections": true,
   "sideBar": true,
   "skip_h1_title": false,
   "title_cell": "Table of Contents",
   "title_sidebar": "Contents",
   "toc_cell": false,
   "toc_position": {},
   "toc_section_display": true,
   "toc_window_display": false
  }
 },
 "nbformat": 4,
 "nbformat_minor": 4
}
