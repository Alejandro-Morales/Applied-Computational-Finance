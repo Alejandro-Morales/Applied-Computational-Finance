{
 "cells": [
  {
   "cell_type": "code",
   "execution_count": 9,
   "metadata": {},
   "outputs": [],
   "source": [
    "import numpy as np"
   ]
  },
  {
   "cell_type": "code",
   "execution_count": 10,
   "metadata": {},
   "outputs": [],
   "source": [
    "def Crout(M):\n",
    "    a = len(M)\n",
    "    L = np.zeros([a,a])\n",
    "    U = np.identity(a)\n",
    "\n",
    "    for i in range(a):\n",
    "        for j in range(i+1):\n",
    "            for h in range(j+1):\n",
    "                if h == 0:\n",
    "                    L[i][j] = M[i][j]\n",
    "                else:\n",
    "                    L[i][j] = L[i][j] -U[h-1][j]*L[i][h-1]\n",
    "\n",
    "        for m in range(a-1-i):\n",
    "            for n in range(i+1):\n",
    "                if n == 0:\n",
    "                    U[i][m+1+i] = M[i][m+1+i]/L[i][i]\n",
    "                else:\n",
    "                    U[i][m+1+i] = U[i][m+1+i] -(U[n-1][m+1+i]*L[i][n-1]/L[i][i])\n",
    "    return L,U"
   ]
  },
  {
   "cell_type": "code",
   "execution_count": 11,
   "metadata": {},
   "outputs": [],
   "source": [
    "def triangular(M):\n",
    "    n = len(M)\n",
    "    if n != len(M[0]):\n",
    "        return 0\n",
    "    upper = True\n",
    "    for i in range(n):\n",
    "        for j in range(i):\n",
    "            if np.round(M[i][j], 3) !=0:\n",
    "                upper = False\n",
    "    lower = True\n",
    "    for i in range(n):\n",
    "        a = n-i-1\n",
    "        for j in range(a):\n",
    "            b = n-j-1\n",
    "            if np.round(M[i][b], 3) !=0:\n",
    "                lower = False\n",
    "    if lower:\n",
    "        return 1\n",
    "    elif upper:\n",
    "        return 2\n",
    "    else:\n",
    "        return 0"
   ]
  },
  {
   "cell_type": "code",
   "execution_count": 12,
   "metadata": {},
   "outputs": [],
   "source": [
    "def solver(L,U,b):\n",
    "    # Forward substitution\n",
    "    if triangular(L) != 1:\n",
    "        return \"L is not a lower triangular matrix\"\n",
    "    n = len(b)\n",
    "    z = np.zeros(n)\n",
    "    for i in range(n):\n",
    "        z[i] = b[i]\n",
    "        for j in range(i):\n",
    "            z[i] = z[i]-L[i][j]*z[j]    \n",
    "        z[i] = z[i]/L[i][i]\n",
    "    print(\"z = \", z)\n",
    "    \n",
    "    if triangular(U) != 2:\n",
    "        return \"U is not an upper triangular matrix\"\n",
    "    \n",
    "    # Backward substitution\n",
    "    y = np.zeros(n)\n",
    "    for i in range(n):\n",
    "        a = n-1-i\n",
    "        y[a] = z[a]\n",
    "        for j in range(i):\n",
    "            b = n-1-j\n",
    "            y[a] = y[a]-U[a][b]*y[b]    \n",
    "        y[a] = y[a]/U[a][a]\n",
    "    print(\"x = \",y)\n",
    "    return y"
   ]
  },
  {
   "cell_type": "code",
   "execution_count": 13,
   "metadata": {},
   "outputs": [],
   "source": [
    "s = np.array([[4,3,2], \n",
    "              [-2,2,3],\n",
    "              [3,-5,2]])\n",
    "b = np.array([25, -10, -4])\n",
    "L,U = Crout(s)"
   ]
  },
  {
   "cell_type": "code",
   "execution_count": 14,
   "metadata": {},
   "outputs": [
    {
     "name": "stdout",
     "output_type": "stream",
     "text": [
      "[[ 4.          0.          0.        ]\n",
      " [-2.          3.5         0.        ]\n",
      " [ 3.         -7.25        8.78571429]]\n"
     ]
    }
   ],
   "source": [
    "print(L)"
   ]
  },
  {
   "cell_type": "code",
   "execution_count": 15,
   "metadata": {},
   "outputs": [
    {
     "name": "stdout",
     "output_type": "stream",
     "text": [
      "[[1.         0.75       0.5       ]\n",
      " [0.         1.         1.14285714]\n",
      " [0.         0.         1.        ]]\n"
     ]
    }
   ],
   "source": [
    "print(U)"
   ]
  },
  {
   "cell_type": "code",
   "execution_count": 16,
   "metadata": {},
   "outputs": [
    {
     "data": {
      "text/plain": [
       "array([[ 4.,  3.,  2.],\n",
       "       [-2.,  2.,  3.],\n",
       "       [ 3., -5.,  2.]])"
      ]
     },
     "execution_count": 16,
     "metadata": {},
     "output_type": "execute_result"
    }
   ],
   "source": [
    "L.dot(U)"
   ]
  },
  {
   "cell_type": "code",
   "execution_count": 18,
   "metadata": {},
   "outputs": [
    {
     "name": "stdout",
     "output_type": "stream",
     "text": [
      "z =  [ 6.25        0.71428571 -2.        ]\n",
      "x =  [ 5.  3. -2.]\n"
     ]
    },
    {
     "data": {
      "text/plain": [
       "array([ 5.,  3., -2.])"
      ]
     },
     "execution_count": 18,
     "metadata": {},
     "output_type": "execute_result"
    }
   ],
   "source": [
    "solver(L,U,b)"
   ]
  },
  {
   "cell_type": "code",
   "execution_count": null,
   "metadata": {},
   "outputs": [],
   "source": []
  }
 ],
 "metadata": {
  "kernelspec": {
   "display_name": "Python 3",
   "language": "python",
   "name": "python3"
  },
  "language_info": {
   "codemirror_mode": {
    "name": "ipython",
    "version": 3
   },
   "file_extension": ".py",
   "mimetype": "text/x-python",
   "name": "python",
   "nbconvert_exporter": "python",
   "pygments_lexer": "ipython3",
   "version": "3.8.3"
  },
  "latex_envs": {
   "LaTeX_envs_menu_present": true,
   "autoclose": false,
   "autocomplete": true,
   "bibliofile": "biblio.bib",
   "cite_by": "apalike",
   "current_citInitial": 1,
   "eqLabelWithNumbers": true,
   "eqNumInitial": 1,
   "hotkeys": {
    "equation": "Ctrl-E",
    "itemize": "Ctrl-I"
   },
   "labels_anchors": false,
   "latex_user_defs": false,
   "report_style_numbering": false,
   "user_envs_cfg": false
  },
  "nbTranslate": {
   "displayLangs": [
    "*"
   ],
   "hotkey": "alt-t",
   "langInMainMenu": true,
   "sourceLang": "en",
   "targetLang": "fr",
   "useGoogleTranslate": true
  },
  "toc": {
   "base_numbering": 1,
   "nav_menu": {},
   "number_sections": true,
   "sideBar": true,
   "skip_h1_title": false,
   "title_cell": "Table of Contents",
   "title_sidebar": "Contents",
   "toc_cell": false,
   "toc_position": {},
   "toc_section_display": true,
   "toc_window_display": false
  }
 },
 "nbformat": 4,
 "nbformat_minor": 4
}
