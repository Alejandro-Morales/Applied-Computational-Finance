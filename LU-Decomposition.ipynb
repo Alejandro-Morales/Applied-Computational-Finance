{
 "cells": [
  {
   "cell_type": "code",
   "execution_count": 15,
   "metadata": {},
   "outputs": [],
   "source": [
    "import numpy as np"
   ]
  },
  {
   "cell_type": "code",
   "execution_count": 16,
   "metadata": {},
   "outputs": [],
   "source": [
    "A = np.array([[2,4,3,5], \n",
    "              [-4,-7,-5,-8],\n",
    "              [6,8,2,9],\n",
    "              [4,9,-2,14]])\n",
    "\n",
    "\n",
    "I = np.array([[1,0,0,0], \n",
    "              [0,1,0,0],\n",
    "              [0,0,1,0],\n",
    "              [0,0,0,1]])\n",
    "\n",
    "s = len(A)\n",
    "\n",
    "for h in range(s-1):\n",
    "    for i in range(h,s-1):\n",
    "        if A[i+1][h] != 0:\n",
    "            num = float(A[i+1][h]/A[h][h])\n",
    "            I[i+1][h] = num\n",
    "            for j in range(s):\n",
    "                temp = A[i+1][j]\n",
    "                A[i+1][j] = temp - (num*A[h][j])\n",
    "L = I\n",
    "U = A"
   ]
  },
  {
   "cell_type": "code",
   "execution_count": 17,
   "metadata": {},
   "outputs": [
    {
     "name": "stdout",
     "output_type": "stream",
     "text": [
      "[[ 2  4  3  5]\n",
      " [ 0  1  1  2]\n",
      " [ 0  0 -3  2]\n",
      " [ 0  0  0 -4]]\n"
     ]
    }
   ],
   "source": [
    "print(U)"
   ]
  },
  {
   "cell_type": "code",
   "execution_count": 18,
   "metadata": {},
   "outputs": [
    {
     "name": "stdout",
     "output_type": "stream",
     "text": [
      "[[ 1  0  0  0]\n",
      " [-2  1  0  0]\n",
      " [ 3 -4  1  0]\n",
      " [ 2  1  3  1]]\n"
     ]
    }
   ],
   "source": [
    "print(L)"
   ]
  },
  {
   "cell_type": "code",
   "execution_count": 19,
   "metadata": {},
   "outputs": [],
   "source": [
    "# Es mejor inicializar A como float, si no te dara L U con puros integers siempre aunque no sea el caso\n",
    "A = np.array([[2.0,-1.0,1.0], \n",
    "              [3.0,3.0,9.0],\n",
    "              [3.0,3.0,5.0]])\n",
    "\n",
    "\n",
    "I = np.array([[1.0,0,0], \n",
    "              [0,1.0,0],\n",
    "              [0,0,1.0]])\n",
    "\n",
    "s = len(A)\n",
    "\n",
    "for h in range(s-1):\n",
    "    for i in range(h,s-1):\n",
    "        if A[i+1][h] != 0:\n",
    "            num = float(A[i+1][h]/A[h][h])\n",
    "            I[i+1][h] = num\n",
    "            for j in range(s):\n",
    "                temp = A[i+1][j]\n",
    "                A[i+1][j] = temp - (num*A[h][j])\n",
    "L = I\n",
    "U = A"
   ]
  },
  {
   "cell_type": "code",
   "execution_count": 20,
   "metadata": {},
   "outputs": [
    {
     "name": "stdout",
     "output_type": "stream",
     "text": [
      "[[ 2.  -1.   1. ]\n",
      " [ 0.   4.5  7.5]\n",
      " [ 0.   0.  -4. ]]\n"
     ]
    }
   ],
   "source": [
    "print(U)"
   ]
  },
  {
   "cell_type": "code",
   "execution_count": 21,
   "metadata": {},
   "outputs": [
    {
     "name": "stdout",
     "output_type": "stream",
     "text": [
      "[[1.  0.  0. ]\n",
      " [1.5 1.  0. ]\n",
      " [1.5 1.  1. ]]\n"
     ]
    }
   ],
   "source": [
    "print(L)"
   ]
  },
  {
   "cell_type": "code",
   "execution_count": 22,
   "metadata": {},
   "outputs": [
    {
     "data": {
      "text/plain": [
       "array([[ 2., -1.,  1.],\n",
       "       [ 3.,  3.,  9.],\n",
       "       [ 3.,  3.,  5.]])"
      ]
     },
     "execution_count": 22,
     "metadata": {},
     "output_type": "execute_result"
    }
   ],
   "source": [
    "L.dot(U)"
   ]
  },
  {
   "cell_type": "code",
   "execution_count": 23,
   "metadata": {},
   "outputs": [],
   "source": [
    "# Solvin a system of equations using LU decomposition\n",
    "A = np.array([[10,-1,2,0], \n",
    "              [-1,11,-1,3],\n",
    "              [2,-1,10,-1],\n",
    "              [0,3,-1,8]])\n",
    "A = A*1.0 # to make it a float\n",
    "b = np.array([6,25,-11,15])\n",
    "b= b*1.0\n",
    "\n"
   ]
  },
  {
   "cell_type": "code",
   "execution_count": 24,
   "metadata": {},
   "outputs": [],
   "source": [
    "I = np.array([[1,0,0,0], \n",
    "              [0,1,0,0],\n",
    "              [0,0,1,0],\n",
    "              [0,0,0,1]])\n",
    "\n",
    "\n",
    "I= I*1.0\n",
    "s = len(A)\n",
    "\n",
    "for h in range(s-1):\n",
    "    for i in range(h,s-1):\n",
    "        if A[i+1][h] != 0:\n",
    "            num = float(A[i+1][h]/A[h][h])\n",
    "            I[i+1][h] = num\n",
    "            for j in range(s):\n",
    "                temp = A[i+1][j]\n",
    "                A[i+1][j] = temp - (num*A[h][j])"
   ]
  },
  {
   "cell_type": "code",
   "execution_count": 25,
   "metadata": {},
   "outputs": [
    {
     "name": "stdout",
     "output_type": "stream",
     "text": [
      "[[ 1.00000000e+01 -1.00000000e+00  2.00000000e+00  0.00000000e+00]\n",
      " [ 0.00000000e+00  1.09000000e+01 -8.00000000e-01  3.00000000e+00]\n",
      " [ 0.00000000e+00  0.00000000e+00  9.54128440e+00 -7.79816514e-01]\n",
      " [ 0.00000000e+00 -4.44089210e-16  0.00000000e+00  7.11057692e+00]]\n",
      "----------\n",
      "[[ 1.          0.          0.          0.        ]\n",
      " [-0.1         1.          0.          0.        ]\n",
      " [ 0.2        -0.0733945   1.          0.        ]\n",
      " [ 0.          0.27522936 -0.08173077  1.        ]]\n"
     ]
    }
   ],
   "source": [
    "print(A)\n",
    "print(\"----------\")\n",
    "print(I)\n",
    "\n",
    "L = I\n",
    "U = A"
   ]
  },
  {
   "cell_type": "code",
   "execution_count": 26,
   "metadata": {},
   "outputs": [
    {
     "data": {
      "text/plain": [
       "array([[10., -1.,  2.,  0.],\n",
       "       [-1., 11., -1.,  3.],\n",
       "       [ 2., -1., 10., -1.],\n",
       "       [ 0.,  3., -1.,  8.]])"
      ]
     },
     "execution_count": 26,
     "metadata": {},
     "output_type": "execute_result"
    }
   ],
   "source": [
    "L.dot(U) # Comprobando que esten bien"
   ]
  },
  {
   "cell_type": "code",
   "execution_count": 27,
   "metadata": {},
   "outputs": [
    {
     "name": "stdout",
     "output_type": "stream",
     "text": [
      "[  6.          25.6        -10.32110092   7.11057692]\n"
     ]
    }
   ],
   "source": [
    "z = np.linalg.inv(L).dot(b)\n",
    "print(z)"
   ]
  },
  {
   "cell_type": "code",
   "execution_count": 28,
   "metadata": {},
   "outputs": [
    {
     "name": "stdout",
     "output_type": "stream",
     "text": [
      "[ 1.  2. -1.  1.]\n"
     ]
    }
   ],
   "source": [
    "y = np.linalg.inv(U).dot(z)\n",
    "print(y)"
   ]
  },
  {
   "cell_type": "code",
   "execution_count": 46,
   "metadata": {},
   "outputs": [],
   "source": [
    "def diagonallyDom(M):\n",
    "    m = len(M)\n",
    "    for i in range(m):\n",
    "        D = np.absolute(M[i][i])\n",
    "        suma = 0\n",
    "        for j in range(m):\n",
    "            if i != j:\n",
    "                suma = suma + np.absolute(M[i][j])\n",
    "        if D <= suma:\n",
    "            return False\n",
    "            \n",
    "    return True"
   ]
  },
  {
   "cell_type": "code",
   "execution_count": 55,
   "metadata": {},
   "outputs": [],
   "source": [
    "A = np.array([[10,-1,2,0], \n",
    "              [-1,11,-1,3],\n",
    "              [2,-1,10,-1],\n",
    "              [0,3,-1,8]])\n",
    "A = A*1.0 # to make it a float"
   ]
  },
  {
   "cell_type": "code",
   "execution_count": 56,
   "metadata": {},
   "outputs": [],
   "source": [
    "def LU(M):\n",
    "    M = M*1.0 # to make it a float\n",
    "    if not diagonallyDom(M):\n",
    "        return \"The Matrix is not diagonally dominant\"\n",
    "    \n",
    "    s = len(M)\n",
    "    \n",
    "    I = np.identity(len(M))\n",
    "\n",
    "    for h in range(s-1):\n",
    "        for i in range(h,s-1):\n",
    "            if M[i+1][h] != 0:\n",
    "                num = float(M[i+1][h]/M[h][h])\n",
    "                I[i+1][h] = num\n",
    "                for j in range(s):\n",
    "                    temp = M[i+1][j]\n",
    "                    M[i+1][j] = temp - (num*M[h][j])\n",
    "    return I,M"
   ]
  },
  {
   "cell_type": "code",
   "execution_count": 58,
   "metadata": {},
   "outputs": [
    {
     "name": "stdout",
     "output_type": "stream",
     "text": [
      "[[ 1.          0.          0.          0.        ]\n",
      " [-0.1         1.          0.          0.        ]\n",
      " [ 0.2        -0.0733945   1.          0.        ]\n",
      " [ 0.          0.27522936 -0.08173077  1.        ]]\n",
      "[[ 1.00000000e+01 -1.00000000e+00  2.00000000e+00  0.00000000e+00]\n",
      " [ 0.00000000e+00  1.09000000e+01 -8.00000000e-01  3.00000000e+00]\n",
      " [ 0.00000000e+00  0.00000000e+00  9.54128440e+00 -7.79816514e-01]\n",
      " [ 0.00000000e+00 -4.44089210e-16  0.00000000e+00  7.11057692e+00]]\n"
     ]
    }
   ],
   "source": [
    "L,U = LU(A)\n",
    "print(L)\n",
    "print(U)"
   ]
  },
  {
   "cell_type": "code",
   "execution_count": null,
   "metadata": {},
   "outputs": [],
   "source": []
  }
 ],
 "metadata": {
  "kernelspec": {
   "display_name": "Python 3",
   "language": "python",
   "name": "python3"
  },
  "language_info": {
   "codemirror_mode": {
    "name": "ipython",
    "version": 3
   },
   "file_extension": ".py",
   "mimetype": "text/x-python",
   "name": "python",
   "nbconvert_exporter": "python",
   "pygments_lexer": "ipython3",
   "version": "3.8.3"
  },
  "latex_envs": {
   "LaTeX_envs_menu_present": true,
   "autoclose": false,
   "autocomplete": true,
   "bibliofile": "biblio.bib",
   "cite_by": "apalike",
   "current_citInitial": 1,
   "eqLabelWithNumbers": true,
   "eqNumInitial": 1,
   "hotkeys": {
    "equation": "Ctrl-E",
    "itemize": "Ctrl-I"
   },
   "labels_anchors": false,
   "latex_user_defs": false,
   "report_style_numbering": false,
   "user_envs_cfg": false
  },
  "nbTranslate": {
   "displayLangs": [
    "*"
   ],
   "hotkey": "alt-t",
   "langInMainMenu": true,
   "sourceLang": "en",
   "targetLang": "fr",
   "useGoogleTranslate": true
  },
  "toc": {
   "base_numbering": 1,
   "nav_menu": {},
   "number_sections": true,
   "sideBar": true,
   "skip_h1_title": false,
   "title_cell": "Table of Contents",
   "title_sidebar": "Contents",
   "toc_cell": false,
   "toc_position": {},
   "toc_section_display": true,
   "toc_window_display": false
  }
 },
 "nbformat": 4,
 "nbformat_minor": 4
}
